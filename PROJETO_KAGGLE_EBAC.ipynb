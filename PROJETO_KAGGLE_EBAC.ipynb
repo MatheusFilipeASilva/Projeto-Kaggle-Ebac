{
  "metadata": {
    "kernelspec": {
      "language": "python",
      "display_name": "Python 3",
      "name": "python3"
    },
    "language_info": {
      "name": "python",
      "version": "3.10.13",
      "mimetype": "text/x-python",
      "codemirror_mode": {
        "name": "ipython",
        "version": 3
      },
      "pygments_lexer": "ipython3",
      "nbconvert_exporter": "python",
      "file_extension": ".py"
    },
    "kaggle": {
      "accelerator": "none",
      "dataSources": [
        {
          "sourceId": 8844367,
          "sourceType": "datasetVersion",
          "datasetId": 5323227
        }
      ],
      "dockerImageVersionId": 30732,
      "isInternetEnabled": false,
      "language": "python",
      "sourceType": "notebook",
      "isGpuEnabled": false
    },
    "colab": {
      "name": "PROJETO FINAL - MODULO 11 - ANALISE DE DADOS EBAC",
      "provenance": []
    }
  },
  "nbformat_minor": 0,
  "nbformat": 4,
  "cells": [
    {
      "source": [
        "\n",
        "# IMPORTANT: RUN THIS CELL IN ORDER TO IMPORT YOUR KAGGLE DATA SOURCES\n",
        "# TO THE CORRECT LOCATION (/kaggle/input) IN YOUR NOTEBOOK,\n",
        "# THEN FEEL FREE TO DELETE THIS CELL.\n",
        "# NOTE: THIS NOTEBOOK ENVIRONMENT DIFFERS FROM KAGGLE'S PYTHON\n",
        "# ENVIRONMENT SO THERE MAY BE MISSING LIBRARIES USED BY YOUR\n",
        "# NOTEBOOK.\n",
        "\n",
        "import os\n",
        "import sys\n",
        "from tempfile import NamedTemporaryFile\n",
        "from urllib.request import urlopen\n",
        "from urllib.parse import unquote, urlparse\n",
        "from urllib.error import HTTPError\n",
        "from zipfile import ZipFile\n",
        "import tarfile\n",
        "import shutil\n",
        "\n",
        "CHUNK_SIZE = 40960\n",
        "DATA_SOURCE_MAPPING = 'modulo-11-suport-material:https%3A%2F%2Fstorage.googleapis.com%2Fkaggle-data-sets%2F5323227%2F8844367%2Fbundle%2Farchive.zip%3FX-Goog-Algorithm%3DGOOG4-RSA-SHA256%26X-Goog-Credential%3Dgcp-kaggle-com%2540kaggle-161607.iam.gserviceaccount.com%252F20240726%252Fauto%252Fstorage%252Fgoog4_request%26X-Goog-Date%3D20240726T172752Z%26X-Goog-Expires%3D259200%26X-Goog-SignedHeaders%3Dhost%26X-Goog-Signature%3D1335e4fec9334589333cffdcc62cd5e9ac0d9f1a3b2b0ceeff603a2bc0734e35d3141c2ee257efb386e26a4c2565725bd8f1d1ee7c8fcefece781e3039d1651d44324a1ade93cc12744c1407cc3b03d4642d82b712a196956a862923854b50d1ca3b1c857979a918af83796d15a73c17dbfb2c3da1b986aee725bc6fa4213fed410f80c094d1290fd2f12274f82b5d54ff165117dd754256814ff7b2e0b069d71cfd0e024ec294725d20791026dc032a8a5728f82e1089f7ee88a36336fcfe5948dac03c6f026306ab54a6ea75e5f94606ecc51f421d81bbf5379e29a64cfc474f221c7eab93b0e8b40250226d0443fadab20a0c4b2035166022d77eb3cf8686'\n",
        "\n",
        "KAGGLE_INPUT_PATH='/kaggle/input'\n",
        "KAGGLE_WORKING_PATH='/kaggle/working'\n",
        "KAGGLE_SYMLINK='kaggle'\n",
        "\n",
        "!umount /kaggle/input/ 2> /dev/null\n",
        "shutil.rmtree('/kaggle/input', ignore_errors=True)\n",
        "os.makedirs(KAGGLE_INPUT_PATH, 0o777, exist_ok=True)\n",
        "os.makedirs(KAGGLE_WORKING_PATH, 0o777, exist_ok=True)\n",
        "\n",
        "try:\n",
        "  os.symlink(KAGGLE_INPUT_PATH, os.path.join(\"..\", 'input'), target_is_directory=True)\n",
        "except FileExistsError:\n",
        "  pass\n",
        "try:\n",
        "  os.symlink(KAGGLE_WORKING_PATH, os.path.join(\"..\", 'working'), target_is_directory=True)\n",
        "except FileExistsError:\n",
        "  pass\n",
        "\n",
        "for data_source_mapping in DATA_SOURCE_MAPPING.split(','):\n",
        "    directory, download_url_encoded = data_source_mapping.split(':')\n",
        "    download_url = unquote(download_url_encoded)\n",
        "    filename = urlparse(download_url).path\n",
        "    destination_path = os.path.join(KAGGLE_INPUT_PATH, directory)\n",
        "    try:\n",
        "        with urlopen(download_url) as fileres, NamedTemporaryFile() as tfile:\n",
        "            total_length = fileres.headers['content-length']\n",
        "            print(f'Downloading {directory}, {total_length} bytes compressed')\n",
        "            dl = 0\n",
        "            data = fileres.read(CHUNK_SIZE)\n",
        "            while len(data) > 0:\n",
        "                dl += len(data)\n",
        "                tfile.write(data)\n",
        "                done = int(50 * dl / int(total_length))\n",
        "                sys.stdout.write(f\"\\r[{'=' * done}{' ' * (50-done)}] {dl} bytes downloaded\")\n",
        "                sys.stdout.flush()\n",
        "                data = fileres.read(CHUNK_SIZE)\n",
        "            if filename.endswith('.zip'):\n",
        "              with ZipFile(tfile) as zfile:\n",
        "                zfile.extractall(destination_path)\n",
        "            else:\n",
        "              with tarfile.open(tfile.name) as tarfile:\n",
        "                tarfile.extractall(destination_path)\n",
        "            print(f'\\nDownloaded and uncompressed: {directory}')\n",
        "    except HTTPError as e:\n",
        "        print(f'Failed to load (likely expired) {download_url} to path {destination_path}')\n",
        "        continue\n",
        "    except OSError as e:\n",
        "        print(f'Failed to load {download_url} to path {destination_path}')\n",
        "        continue\n",
        "\n",
        "print('Data source import complete.')\n"
      ],
      "metadata": {
        "id": "77wRagaLFb0N"
      },
      "cell_type": "code",
      "outputs": [],
      "execution_count": null
    },
    {
      "cell_type": "code",
      "source": [],
      "metadata": {
        "id": "8zPY2K8mFb0T"
      },
      "execution_count": null,
      "outputs": []
    },
    {
      "cell_type": "code",
      "source": [
        "import numpy as np # linear algebra\n",
        "import pandas as pd # data processing, CSV file I/O (e.g. pd.read_csv)\n",
        "import seaborn as sns\n",
        "import matplotlib.pyplot as plt\n",
        "\n",
        "sns.set_style(\"whitegrid\")\n",
        "\n",
        "df = pd.read_csv('/kaggle/input/modulo-11-suport-material/Python_M10_support material (1).csv', na_values='na')\n",
        "\n",
        "qtd_total, _ = df.shape\n",
        "qtd_adimplentes, _ = df[df['default']==0].shape\n",
        "qtd_inadimplentes, _ = df[df['default']==1].shape\n",
        "print(qtd_adimplentes+qtd_inadimplentes)\n",
        "\n",
        "# Podemos notar que nosso arquivo é coerente com relação ao default, pois a soma dos\n",
        "# defaults iguais a 0 com os defaults iguais a 1, possui cardinalidade igual ao total\n",
        "# dos dados. Ou seja: não existe nenhum dado vazio dentro da coluna \"default\", e, portanto,\n",
        "# não existe nenhum cliente que não esteja contabilizado nem como adimplente nem como\n",
        "# adimplente, o que representaria uma incoerência dos dados."
      ],
      "metadata": {
        "_uuid": "8f2839f25d086af736a60e9eeb907d3b93b6e0e5",
        "_cell_guid": "b1076dfc-b9ad-4769-8c92-a6c4dae69d19",
        "execution": {
          "iopub.status.busy": "2024-07-05T21:05:23.305289Z",
          "iopub.execute_input": "2024-07-05T21:05:23.305908Z",
          "iopub.status.idle": "2024-07-05T21:05:23.343651Z",
          "shell.execute_reply.started": "2024-07-05T21:05:23.305863Z",
          "shell.execute_reply": "2024-07-05T21:05:23.342523Z"
        },
        "trusted": true,
        "id": "bUDsMMTrFb0T"
      },
      "execution_count": null,
      "outputs": []
    },
    {
      "cell_type": "code",
      "source": [
        "### Em termos de porcentagem, temos que:\n",
        "print(f'O percentual de clientes adimplentes é: {qtd_adimplentes/qtd_total*100:.2f}%')\n",
        "print(f'O percentual de clientes inadimplentes é: {qtd_inadimplentes/qtd_total*100:.2f}%')\n",
        "\n",
        "### Este trecho do código mostra que o percentual de clientes adimplentes supera em muito o\n",
        "### Percentual de clientes inadimplentes, o que também era o esperado"
      ],
      "metadata": {
        "execution": {
          "iopub.status.busy": "2024-07-05T21:05:23.345253Z",
          "iopub.execute_input": "2024-07-05T21:05:23.345673Z",
          "iopub.status.idle": "2024-07-05T21:05:23.351504Z",
          "shell.execute_reply.started": "2024-07-05T21:05:23.345645Z",
          "shell.execute_reply": "2024-07-05T21:05:23.350136Z"
        },
        "trusted": true,
        "id": "qQQUjy6oFb0U"
      },
      "execution_count": null,
      "outputs": []
    },
    {
      "cell_type": "code",
      "source": [
        "print(df.dtypes)\n",
        "print(df.select_dtypes('object').describe().transpose())\n",
        "\n",
        "# Neste trecho, podemos ver algumas peculiaridades dos dados. Aparecem no segundo print\n",
        "# Algumas coisas já esperadas, e outras nem tanto:\n",
        "# O gênero mais frequente é o feminino. O que era esperado, visto que o gênero feminino\n",
        "# é maioria na pirâmide etária\n",
        "\n",
        "# A escolaridade mais frequente é o mestrado, o que já não parece tão comum, pelo menos em\n",
        "# um país com baixa escolaridade média, como o Brasil, onde apenas cerca de 0,84% da\n",
        "# população possui mestrado. Este aspecto dos dados talvez possa indicar que eles foram\n",
        "# extraídos da população de um país mais desenvolvido...\n",
        "\n",
        "# O salário mais comum é abaixo de 40k anuais, o que é totalmente esperado.\n",
        "\n",
        "# O cartão blue ser o mais comum, igualmenete, visto que é o mais acessível...\n",
        "\n",
        "# Os outros dois dados (limite de crédito e valor das transações), não possuem tanto\n",
        "# significado quanto à análise de incidência de valor específico.\n",
        "# O modo correto de se analisar seria via intervalos."
      ],
      "metadata": {
        "execution": {
          "iopub.status.busy": "2024-07-05T21:05:23.352712Z",
          "iopub.execute_input": "2024-07-05T21:05:23.353074Z",
          "iopub.status.idle": "2024-07-05T21:05:23.394844Z",
          "shell.execute_reply.started": "2024-07-05T21:05:23.353043Z",
          "shell.execute_reply": "2024-07-05T21:05:23.393865Z"
        },
        "trusted": true,
        "id": "1HC09v_3Fb0U"
      },
      "execution_count": null,
      "outputs": []
    },
    {
      "cell_type": "code",
      "source": [
        "print(df.drop('id', axis = 1).select_dtypes('number').describe().transpose())\n",
        "\n",
        "# Nesta secção dos dados, vemos algo que parece corroborar com uma de nossas conjecturas\n",
        "# anteriores. A média das idades é de 46, sinal de uma população bastante envelhecida\n",
        "# bastante compatível com a hipótese de os dados serem oriundos da população de um país\n",
        "# mais desenvolvido. A media de dependetes, no entanto, esperaria-se talvez que fosse menor"
      ],
      "metadata": {
        "execution": {
          "iopub.status.busy": "2024-07-05T21:05:23.396978Z",
          "iopub.execute_input": "2024-07-05T21:05:23.397333Z",
          "iopub.status.idle": "2024-07-05T21:05:23.430637Z",
          "shell.execute_reply.started": "2024-07-05T21:05:23.397297Z",
          "shell.execute_reply": "2024-07-05T21:05:23.429803Z"
        },
        "trusted": true,
        "id": "lQ1NOHNtFb0V"
      },
      "execution_count": null,
      "outputs": []
    },
    {
      "cell_type": "code",
      "source": [
        "df.isna().any()\n",
        "\n",
        "# Os nossos dados faltantes estão presentes apenas nas colunas \"escolaridade\", \"estado_civil\"\n",
        "# e salário anual. Estes dados faltantes possivelmente são equivalentes à \"sem informação\"\n",
        "# ou até mesmo algum modo de representar o vazio, ou o zero. Portanto, provavelmente não\n",
        "# representa um grande problema.\n",
        "\n",
        "# Vamos extrair algumas informações a respeito dos dados faltantes á seguir:"
      ],
      "metadata": {
        "execution": {
          "iopub.status.busy": "2024-07-05T21:05:23.432038Z",
          "iopub.execute_input": "2024-07-05T21:05:23.432375Z",
          "iopub.status.idle": "2024-07-05T21:05:23.445095Z",
          "shell.execute_reply.started": "2024-07-05T21:05:23.432344Z",
          "shell.execute_reply": "2024-07-05T21:05:23.443869Z"
        },
        "trusted": true,
        "id": "OVXZl8pyFb0V"
      },
      "execution_count": null,
      "outputs": []
    },
    {
      "cell_type": "code",
      "source": [
        "def status_dados_faltantes(df: pd.DataFrame) -> None:\n",
        "\n",
        "\n",
        "    stats_dados_faltantes = []\n",
        "    for col in df.columns:\n",
        "        if df[col].isna().any():\n",
        "            qtd, _ = df[df[col].isna()].shape\n",
        "            total, _ = df.shape\n",
        "            dict_dados_faltantes = {col:{'quantidade': qtd, 'porcentagem': round(qtd/total*100, 2)}}\n",
        "            stats_dados_faltantes.append(dict_dados_faltantes)\n",
        "    for stats in stats_dados_faltantes:\n",
        "        print(stats)\n",
        ""
      ],
      "metadata": {
        "execution": {
          "iopub.status.busy": "2024-07-05T21:05:23.446858Z",
          "iopub.execute_input": "2024-07-05T21:05:23.447205Z",
          "iopub.status.idle": "2024-07-05T21:05:23.455878Z",
          "shell.execute_reply.started": "2024-07-05T21:05:23.447176Z",
          "shell.execute_reply": "2024-07-05T21:05:23.454772Z"
        },
        "trusted": true,
        "id": "o1lB0n6MFb0W"
      },
      "execution_count": null,
      "outputs": []
    },
    {
      "cell_type": "code",
      "source": [
        "status_dados_faltantes(df=df)\n",
        "\n",
        "# Com base nos resultados, podemos dizer que a quantidade de dados faltantes não são altas\n",
        "# o suficiente para que possamos dizer que a análise dos dados está comprometida. Até porque:\n",
        "print('\\n')\n",
        "status_dados_faltantes(df=df[df['default'] == 0])\n",
        "print('\\n')\n",
        "status_dados_faltantes(df=df[df['default'] == 1])\n",
        "\n",
        "# Podemos ver que o percentual relativo entre os clientes adimplentes que possuem dados\n",
        "# faltando e o percentual dos clientes inadimplentes que possuem dados faltando\n",
        "# é aproximadamente o mesmo. Ou seja, a faltância dos dados não afeta significativamente\n",
        "# o default.\n"
      ],
      "metadata": {
        "execution": {
          "iopub.status.busy": "2024-07-05T21:05:23.45724Z",
          "iopub.execute_input": "2024-07-05T21:05:23.457627Z",
          "iopub.status.idle": "2024-07-05T21:05:23.497616Z",
          "shell.execute_reply.started": "2024-07-05T21:05:23.457591Z",
          "shell.execute_reply": "2024-07-05T21:05:23.496558Z"
        },
        "trusted": true,
        "id": "1y2cgnyoFb0W"
      },
      "execution_count": null,
      "outputs": []
    },
    {
      "cell_type": "code",
      "source": [
        "limpeza_dos_dados = lambda valor: float(valor.replace('.','').replace(',','.'))\n",
        "\n",
        "# Um dos problemas dos nossos dados é o fato de os valores das colunas \"valor_trasacoes_12m\"\n",
        "# e \"limite_credito\" estarem sendo tratados como objetos, quando seria muito mais simples\n",
        "# tratá-las como floats. Este erro acontece pois o pandas opera utilizando o sistema\n",
        "# norte-americano, e os dados estão no modelo brasileiro. Para tratar isso, definimos\n",
        "# a função lambda limpeza_dos_dados, e aplicaremos ela na base de dados utilizando o\n",
        "# método apply.\n",
        "\n",
        "df['valor_transacoes_12m'] = df['valor_transacoes_12m'].apply(limpeza_dos_dados)\n",
        "df['limite_credito'] = df['limite_credito'].apply(limpeza_dos_dados)\n",
        "\n",
        "# Para checar se funcionou, observamos novamente o schema:\n",
        "\n",
        "print(df.dtypes)\n",
        "\n",
        "# Podemos ver, agora, o limite e o valor das transações dos últimos 12 meses corretamente\n",
        "# descritos como floats."
      ],
      "metadata": {
        "execution": {
          "iopub.status.busy": "2024-07-05T21:05:23.498857Z",
          "iopub.execute_input": "2024-07-05T21:05:23.499183Z",
          "iopub.status.idle": "2024-07-05T21:05:23.521073Z",
          "shell.execute_reply.started": "2024-07-05T21:05:23.499155Z",
          "shell.execute_reply": "2024-07-05T21:05:23.519955Z"
        },
        "trusted": true,
        "id": "Pp3w-KsHFb0W"
      },
      "execution_count": null,
      "outputs": []
    },
    {
      "cell_type": "code",
      "source": [
        "# Vamos descrever novamente os dados...\n",
        "\n",
        "print(df.dtypes)\n",
        "print('\\n')\n",
        "print(df.select_dtypes('object').describe().transpose())\n",
        "print('\\n')\n",
        "print(df.drop('id', axis=1).select_dtypes('number').describe().transpose())"
      ],
      "metadata": {
        "execution": {
          "iopub.status.busy": "2024-07-05T21:05:23.524942Z",
          "iopub.execute_input": "2024-07-05T21:05:23.525409Z",
          "iopub.status.idle": "2024-07-05T21:05:23.583148Z",
          "shell.execute_reply.started": "2024-07-05T21:05:23.525357Z",
          "shell.execute_reply": "2024-07-05T21:05:23.581928Z"
        },
        "trusted": true,
        "id": "uqHPYNumFb0X"
      },
      "execution_count": null,
      "outputs": []
    },
    {
      "cell_type": "markdown",
      "source": [],
      "metadata": {
        "id": "uxcA1DnwFb0X"
      }
    },
    {
      "cell_type": "code",
      "source": [
        "# Vamos usar o pandas para remover os dados faltantes, de modo que eles não sejam\n",
        "# levados em consideração em  nossas análises à partir de agora.\n",
        "\n",
        "df.dropna(inplace=True)\n",
        "\n",
        "# Agora re-analisamos os dados:\n",
        "\n",
        "df.shape\n",
        "\n",
        "# Uma porção significativa de nosso estoque de dados foi removida, mas não o suficiente\n",
        "# para ser comprometedora, especialmente levando em consideração que não havia relação entre\n",
        "# o default e a vacância de dados\n",
        "\n",
        "# Agora, analisaremos os dados desconsiderando os clientes com vacancia de dados.\n",
        "\n",
        "qtd_total_clean, _ = df.shape\n",
        "adimplentes_clean, _ = df[df['default']==0].shape\n",
        "inadimplentes_clean, _ = df[df['default']==1].shape\n",
        "\n",
        "print(f'A quantidade de clientes adimplentes era {qtd_adimplentes}, e passou a ser {adimplentes_clean}')\n",
        "print(f\"\"\"A proporção de clientes adimplentes anteriormente era\n",
        "{qtd_adimplentes/qtd_total*100:.2f}%, e passou a ser {adimplentes_clean/qtd_total_clean*100:.2f}%\\n\"\"\")\n",
        "\n",
        "print(f'A quantidade total de clientes inadimplentes era {qtd_inadimplentes} e passou a ser {adimplentes_clean}')\n",
        "print(f\"\"\"A proporção de clientes inadimplentes era {qtd_inadimplentes/qtd_total*100:.2f}%\n",
        "e passou a ser {inadimplentes_clean/qtd_total_clean*100:.2f}%\"\"\")"
      ],
      "metadata": {
        "execution": {
          "iopub.status.busy": "2024-07-05T21:05:23.584597Z",
          "iopub.execute_input": "2024-07-05T21:05:23.584933Z",
          "iopub.status.idle": "2024-07-05T21:05:23.601447Z",
          "shell.execute_reply.started": "2024-07-05T21:05:23.584903Z",
          "shell.execute_reply": "2024-07-05T21:05:23.600612Z"
        },
        "trusted": true,
        "id": "YUl2vnQdFb0Y"
      },
      "execution_count": null,
      "outputs": []
    },
    {
      "cell_type": "code",
      "source": [
        "df_adimplente = df[df['default']==0]\n",
        "df_inadimplente = df[df['default']==1]\n",
        "\n",
        "# De agora em diante, faremos a exploração gráfica dos dados, agora já devidamente limpos\n",
        "# E prontos para processamento\n",
        "df_adimplente = df[df['default'] == 0]\n",
        "df_inadimplente = df[df['default'] == 1]\n",
        "\n",
        "# Títulos para os gráficos\n",
        "coluna = 'escolaridade'\n",
        "titulos = ['Escolaridade dos Clientes', 'Escolaridade dos Clientes Adimplentes',\n",
        "           'Escolaridade dos Clientes Inadimplentes']\n",
        "max_y = 0\n",
        "\n",
        "# Configuração do tamanho dos gráficos\n",
        "figura, eixos = plt.subplots(1, 3, figsize=(20, 5), sharex=True)\n",
        "\n",
        "# Plotando os gráficos\n",
        "for dataframe, eixo in zip([df, df_adimplente, df_inadimplente], range(3)):\n",
        "    df_to_plot = dataframe[coluna].value_counts().reset_index()\n",
        "    df_to_plot.columns = [coluna, 'frequencia_absoluta']\n",
        "    df_to_plot.sort_values(by=[coluna], inplace=True)\n",
        "\n",
        "    f = sns.barplot(x=coluna, y='frequencia_absoluta', data=df_to_plot, ax=eixos[eixo])\n",
        "    f.set(title=titulos[eixo], xlabel=coluna.capitalize(), ylabel='Frequência Absoluta')\n",
        "    f.set_xticklabels(labels=f.get_xticklabels(), rotation=90)\n",
        "\n",
        "    _, max_y_f = f.get_ylim()\n",
        "    max_y = max_y_f if max_y_f > max_y else max_y\n",
        "    f.set(ylim=(0, max_y))\n",
        "\n",
        "figura.tight_layout()\n",
        "plt.show()\n",
        "\n",
        "\n",
        "# Ao que podemos ver, a estrutura dos dados permanece a mesma com relação à escolaridade.\n",
        "# Isto é, não parece haver uma tendência em perticular de um cliente ser ou não ser\n",
        "# Inadimplente com base em sua escolaridade."
      ],
      "metadata": {
        "execution": {
          "iopub.status.busy": "2024-07-05T21:05:23.603158Z",
          "iopub.execute_input": "2024-07-05T21:05:23.604078Z",
          "iopub.status.idle": "2024-07-05T21:05:24.444007Z",
          "shell.execute_reply.started": "2024-07-05T21:05:23.604035Z",
          "shell.execute_reply": "2024-07-05T21:05:24.442851Z"
        },
        "trusted": true,
        "id": "mSC6M0SfFb0Y"
      },
      "execution_count": null,
      "outputs": []
    },
    {
      "cell_type": "code",
      "source": [
        "# Agora, procuraremos verificar uma relação entre o salário anual e o default.\n",
        "coluna = 'salario_anual'\n",
        "titulos = ['Escolaridade dos Clientes', 'Escolaridade dos Clientes Adimplentes',\n",
        "           'Escolaridade dos Clientes Inadimplente']\n",
        "max_y = 0\n",
        "\n",
        "figura, eixos = plt.subplots(1, 3, figsize=(20,5), sharex=True)\n",
        "\n",
        "for dataframe, eixo in zip([df,df_adimplente,df_inadimplente], range(3)):\n",
        "    df_to_plot = dataframe[coluna].value_counts().reset_index()\n",
        "    df_to_plot.columns = [coluna, 'frequencia absoluta']\n",
        "    df_to_plot.sort_values(by=[coluna], inplace=True)\n",
        "\n",
        "    f = sns.barplot(x=coluna, y= 'frequencia absoluta', data=df_to_plot, ax=eixos[eixo])\n",
        "    f.set(title=titulos[eixo], xlabel=coluna.capitalize(), ylabel='Frequencia Absoluta')\n",
        "    f.set_xticklabels(labels=f.get_xticklabels(), rotation=90)\n",
        "\n",
        "    _, max_y_f = f.get_ylim()\n",
        "    max_y = max_y_f if max_y_f > max_y else max_y\n",
        "    f.set(ylim=(0,max_y))\n",
        "\n",
        "figura.tight_layout()\n",
        "plt.show"
      ],
      "metadata": {
        "execution": {
          "iopub.status.busy": "2024-07-05T21:05:24.4456Z",
          "iopub.execute_input": "2024-07-05T21:05:24.446045Z",
          "iopub.status.idle": "2024-07-05T21:05:25.577724Z",
          "shell.execute_reply.started": "2024-07-05T21:05:24.445984Z",
          "shell.execute_reply": "2024-07-05T21:05:25.57656Z"
        },
        "trusted": true,
        "id": "4a8grmS2Fb0Z"
      },
      "execution_count": null,
      "outputs": []
    },
    {
      "cell_type": "code",
      "source": [
        "# O gráfico anterior também não explica o default, pois a proporção se mantém do mesmo modo\n",
        "# Que antes. Uma pessoa ter um salário anual maior ou menor, não parece afetar\n",
        "# Significativamente o default.\n",
        "\n",
        "# Analisemos, então, outro setor do gráfico...\n",
        "\n",
        "coluna = 'qtd_transacoes_12m'\n",
        "titulos = ['Qtd de transacoes do ultimo ano',\n",
        "           'Qtd de transacoes do ultimo ano de adimplentes',\n",
        "           'Qtd transacoes do ultimo ano de inadimplentes']\n",
        "\n",
        "max_y = eixo = 0\n",
        "figora, eixos = plt.subplots(1, 3, figsize= (20,5), sharex=True)\n",
        "\n",
        "for dataframe in [df, df_adimplente, df_inadimplente]:\n",
        "    f = sns.histplot(x=coluna, data=dataframe, stat='count', ax=eixos[eixo])\n",
        "    f.set(title=titulos[eixo], xlabel=coluna.capitalize(), ylabel='Frequencia Absoluta')\n",
        "\n",
        "    _, max_y_f = f.get_ylim()\n",
        "    max_y = max_y_f if max_y_f > max_y else max_y\n",
        "    f.set(ylim = (0,max_y))\n",
        "    eixo += 1\n",
        "\n",
        "figura.tight_layout()\n",
        "plt.show\n",
        "\n",
        "# Podemos, finalmente, reparar algumas alterações! Caso a quantidade de transações dos\n",
        "# Últimos 12 meses não afetasse o default, esperariamos que o formato do gráfico se\n",
        "# Mantivesse tanto dentro do geral, quanto dentro do default 0 ou default 1. Não é o que\n",
        "# Ocorre. Podemos notar que a região do valor modal dos clientes ADIMPLENTES é totalmente\n",
        "# Diferente da região modal dos clientes INADIMPLENTES. Ou seja, os gráficos sugerem que\n",
        "# Existe uma clara TENDÊNCIA entre pessoas com em torno de 45 transações no útimo ano serem\n",
        "# Clientes em default = 1, ou seja, inadimplentes. Em compensação, clientes com mais de 80\n",
        "# Transações nos últimos 12 meses, parecem ter uma chance quase que nula de se tornarem\n",
        "# Inadimplentes. Ou seja, este parâmetro parece VALIOSO para explicar o que leva o cliente\n",
        "# A entrar em default."
      ],
      "metadata": {
        "execution": {
          "iopub.status.busy": "2024-07-05T21:05:25.579074Z",
          "iopub.execute_input": "2024-07-05T21:05:25.579424Z",
          "iopub.status.idle": "2024-07-05T21:05:27.041927Z",
          "shell.execute_reply.started": "2024-07-05T21:05:25.579395Z",
          "shell.execute_reply": "2024-07-05T21:05:27.040876Z"
        },
        "trusted": true,
        "id": "WKtz0MmzFb0Z"
      },
      "execution_count": null,
      "outputs": []
    },
    {
      "cell_type": "code",
      "source": [
        "# Procuraremos agora uma relação entre o default e o valor das transações dos últimos 12\n",
        "# Meses, utilizando, assim como anteriormente, um gráfico de histogramas, visto que os\n",
        "# Valores estão livres, e não em intervalos bem definidos.\n",
        "\n",
        "coluna = 'valor_transacoes_12m'\n",
        "titulos = ['Qtd. de transacoes do ultimo ano',\n",
        "          'Qtd. de transacoes do ultimo ano de adimplentes',\n",
        "          'Qtd. de transacoes do ultimo ano de inadimplentes']\n",
        "\n",
        "max_y = eixo = 0\n",
        "figura, eixos = plt.subplots(1, 3, figsize=(20,5), sharex=True)\n",
        "for dataframe in [df, df_adimplente, df_inadimplente]:\n",
        "    f = sns.histplot(x=coluna, data=dataframe, stat='count', ax=eixos[eixo])\n",
        "    f.set(title=titulos[eixo], xlabel=coluna.capitalize(), ylabel='Frequencia Absoluta')\n",
        "\n",
        "    _, max_y_f = f.get_ylim()\n",
        "    max_y = max_y_f if max_y_f > max_y else max_y\n",
        "    f.set(ylim=(0, max_y))\n",
        "    eixo += 1\n",
        "\n",
        "figura.tight_layout()\n",
        "plt.show\n",
        "\n"
      ],
      "metadata": {
        "execution": {
          "iopub.status.busy": "2024-07-05T21:05:27.043612Z",
          "iopub.execute_input": "2024-07-05T21:05:27.044047Z",
          "iopub.status.idle": "2024-07-05T21:05:28.609998Z",
          "shell.execute_reply.started": "2024-07-05T21:05:27.043994Z",
          "shell.execute_reply": "2024-07-05T21:05:28.608938Z"
        },
        "trusted": true,
        "id": "y6Z0h4kcFb0Z"
      },
      "execution_count": null,
      "outputs": []
    },
    {
      "cell_type": "code",
      "source": [
        "# Agora vamos plotar ambos no mesmo gráfico para ver se ainda conseguimos estabelecer mais\n",
        "# alguma relação. Vejamos:\n",
        "f = sns.relplot(x='valor_transacoes_12m', y='qtd_transacoes_12m',\n",
        "                    data=df, hue='default')\n",
        "_ = f.set(\n",
        "    title='Relação entre valor e quantidade de transações no último ano',\n",
        "    xlabel='Valor das transações do último ano',\n",
        "    ylabel='Quantidade de transacoes do ultimo ano')\n",
        "\n",
        "# Neste gráfico, podemos reparar a relação entre as duas variáveis que foram capazes de\n",
        "# explicar o default. Percebemos que existe uma enorme tendência de default entre pessoas\n",
        "# que: ou transferem anualmente cerca de 7500 a 10000 reais em cerca de 60 a 80 transações\n",
        "# ou transferem menos de 2500 distribuídas entre 0 e 60 transações. Existe também uma\n",
        "# tendencia menor de default entre clientes que transacionam entre 5000 e 7500 entre 40\n",
        "# e 60 transações. Outra questão que é valiosa, é a tendência basicamente absoluta, ao\n",
        "# que podemos observar, de que clientes que transacionam mais de 12500 de não cometerem\n",
        "# ato de inadimplência, o que é uma informação valiosa quanto à seguridade de empréstimo\n",
        "# e conferimento de limite a tais clientes."
      ],
      "metadata": {
        "execution": {
          "iopub.status.busy": "2024-07-05T21:05:28.611374Z",
          "iopub.execute_input": "2024-07-05T21:05:28.611696Z",
          "iopub.status.idle": "2024-07-05T21:05:30.07006Z",
          "shell.execute_reply.started": "2024-07-05T21:05:28.61167Z",
          "shell.execute_reply": "2024-07-05T21:05:30.068735Z"
        },
        "trusted": true,
        "id": "ETzhNqEjFb0Z"
      },
      "execution_count": null,
      "outputs": []
    },
    {
      "cell_type": "code",
      "source": [
        "    \"\"\"SÍNTESE:\n",
        "    EM NOSSA BUSTA POR EXPLICAR O DEFAULT, PROCURAMOS POR TENDÊNCIAS DE INADIMPLENCIA\n",
        "    INICIALMENTE COM RELAÇÃO AO SALÁRIO ANUAL, E ESCOLARIDADE. NO ENTANDO, NOTAMOS QUE TAL\n",
        "    TENDÊNCIA NÃO SE EVIDENCIA. ISTO POIS, COMO NOTAMOS, OS GRÁFICOS QUE MOSTRAVAM A\n",
        "    ESCOLARIDADE E SALÁRIO ANUAL GERAL, E OS GRÁFICOS QUE MOSTRAM A ESCOLARIDADE E SALÁRIO\n",
        "    ANUAL APENAS DOS CLIENTES ADIMPLENTES OU INADIMPLENTES SÃO O QUE, MATEMATICAMENTE,\n",
        "    CHAMAMOS DE TRANSFORMAÇÕES LINEARES UM DO OUTRO (APROXIMADAMENTE). EM LINGUAGEM CASUAL,\n",
        "    DIZEMOS QUE OS GRÁFICOS SÃO UMA VERSÃO 'ESPICHADA' UNS DOS OUTROS. OU TAMBÉM, DE UM\n",
        "    MODO UM POUCO MAIS PRECISO, MANTÉM A PROPORCIONALIDADE (OU SEJA, A QUANDIDADE DE\n",
        "    CLIENTES INADIMPLENTES COM CADA ESCOLARIDADE SÓ É MENOR QUE O GRÁFICO GERAL AO MESMO\n",
        "    PASSO EM QUE EXISTEM MENOS CLIENTES INADIMPLENTES DO QUE CLIENTES GERAIS (OBVIAMENTE))\"\"\"\n",
        ""
      ],
      "metadata": {
        "id": "QewN-JaxFb0Z"
      },
      "execution_count": null,
      "outputs": []
    },
    {
      "cell_type": "markdown",
      "source": [],
      "metadata": {
        "id": "uVNYFxInFb0a"
      }
    },
    {
      "cell_type": "markdown",
      "source": [],
      "metadata": {
        "id": "bKQr6YEOFb0a"
      }
    }
  ]
}